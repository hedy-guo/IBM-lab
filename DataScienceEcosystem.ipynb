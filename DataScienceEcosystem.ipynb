{
 "cells": [
  {
   "cell_type": "markdown",
   "id": "3f140f80-b7a5-41ff-86aa-0f2472fdcc35",
   "metadata": {},
   "source": [
    "# Data Science Tools and Ecosystem"
   ]
  },
  {
   "cell_type": "markdown",
   "id": "28ffe60d-6ae5-40b1-8216-4fbcc666a9d7",
   "metadata": {},
   "source": [
    "In this notebook, Data Science Tools and Ecosystem are summarized."
   ]
  },
  {
   "cell_type": "markdown",
   "id": "f850b000-9aec-49e4-ba49-ba2b80aa8b60",
   "metadata": {},
   "source": [
    "**Objectives:**\n",
    "\n",
    "- List popular languages for Data Science\n",
    "- Explain the use of Jupyter Notebooks\n",
    "- Convert time units (minutes to hours) using Python\n",
    "- Understand basic arithmetic operations in Python"
   ]
  },
  {
   "cell_type": "markdown",
   "id": "bbf1888b-2e8f-4e6f-8b04-c33d5f3e88f6",
   "metadata": {},
   "source": [
    "Some of the popular languages that Data Scientists use are:\n",
    "Python\n",
    "Java\n",
    "R"
   ]
  },
  {
   "cell_type": "markdown",
   "id": "885b6db8-35f4-46b6-adb1-b9d6c9055f8a",
   "metadata": {},
   "source": [
    "|Data Science Tool|\n",
    "|-----------------|\n",
    "| Jupyter Notebooks|\n",
    "| RStudio          |\n",
    "| Apache Zeppelin  |"
   ]
  },
  {
   "cell_type": "markdown",
   "id": "f606febe-730f-4c83-acaf-a066e432718c",
   "metadata": {},
   "source": [
    "### Below are a few examples of evaluating arithmetic expressions in Python"
   ]
  },
  {
   "cell_type": "code",
   "execution_count": null,
   "id": "dc5a65a4-d90b-4a58-99a7-53303486b84a",
   "metadata": {},
   "outputs": [],
   "source": [
    "#This will convert 200 minutes to hours by diving by 60"
   ]
  },
  {
   "cell_type": "code",
   "execution_count": 8,
   "id": "a323df36-013c-470e-9408-4676cabdd4e9",
   "metadata": {},
   "outputs": [
    {
     "data": {
      "text/plain": [
       "3.3333333333333335"
      ]
     },
     "execution_count": 8,
     "metadata": {},
     "output_type": "execute_result"
    }
   ],
   "source": [
    "minutes = 200\n",
    "hours = minutes / 60\n",
    "hours"
   ]
  },
  {
   "cell_type": "markdown",
   "id": "0a7e479e-d9d9-4ea9-9702-786e8bcff886",
   "metadata": {},
   "source": [
    "## Author: Hedy"
   ]
  },
  {
   "cell_type": "code",
   "execution_count": null,
   "id": "a9d9b1e6-675a-40ec-a4ff-7f76d4da4214",
   "metadata": {},
   "outputs": [],
   "source": []
  },
  {
   "cell_type": "code",
   "execution_count": null,
   "id": "fb6abff9-0584-45fc-b41d-1759718519d5",
   "metadata": {},
   "outputs": [],
   "source": []
  }
 ],
 "metadata": {
  "kernelspec": {
   "display_name": "Python 3 (ipykernel)",
   "language": "python",
   "name": "python3"
  },
  "language_info": {
   "codemirror_mode": {
    "name": "ipython",
    "version": 3
   },
   "file_extension": ".py",
   "mimetype": "text/x-python",
   "name": "python",
   "nbconvert_exporter": "python",
   "pygments_lexer": "ipython3",
   "version": "3.12.4"
  }
 },
 "nbformat": 4,
 "nbformat_minor": 5
}
